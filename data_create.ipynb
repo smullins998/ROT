{
 "cells": [
  {
   "cell_type": "markdown",
   "id": "5dcafaf5",
   "metadata": {},
   "source": [
    "# Load Data and Create Charts"
   ]
  },
  {
   "cell_type": "code",
   "execution_count": 1,
   "id": "1823532b",
   "metadata": {},
   "outputs": [],
   "source": [
    "import yfinance as yf\n",
    "import matplotlib.pyplot as plt\n",
    "import matplotlib.dates as mdates\n",
    "import pandas as pd\n",
    "import mplfinance as mpf\n",
    "import datetime\n",
    "import numpy as np\n",
    "import os\n",
    "import warnings\n",
    "from tqdm import tqdm\n",
    "warnings.filterwarnings(\"ignore\")"
   ]
  },
  {
   "cell_type": "markdown",
   "id": "3079a4c7",
   "metadata": {},
   "source": [
    "- Load data from multiple options chains and create large set"
   ]
  },
  {
   "cell_type": "code",
   "execution_count": 2,
   "id": "6ab2c87a",
   "metadata": {},
   "outputs": [],
   "source": [
    "# df_apple = pd.read_csv('data/aapl_2016_2020.csv')\n",
    "# df_apple['equity'] = 'AAPL'\n",
    "# df_apple2 = pd.read_csv('data/aapl_2021_2023.csv')\n",
    "# df_apple2['equity'] = 'AAPL'\n",
    "# df_tesla = pd.read_csv('data/tsla_2019_2022.csv')\n",
    "# df_tesla['equity'] = 'TSLA'\n",
    "# df_spy = pd.read_csv('data/spy_2020_2022.csv')\n",
    "# df_spy['equity'] = 'SPY'\n",
    "# df_nividia = pd.read_csv('data/nvda_2020_2022.csv')\n",
    "# df_nividia['equity'] = 'NVDA'\n",
    "# df_qqq = pd.read_csv('data/qqq_2020_2022.csv')\n",
    "# df_qqq['equity'] = 'QQQ'\n",
    "\n",
    "# df = pd.concat([df_apple,\n",
    "# df_apple2,\n",
    "# df_tesla,\n",
    "# df_spy,\n",
    "# df_nividia,\n",
    "# df_qqq])\n",
    "\n",
    "#df.to_csv('./FullOptions.csv')"
   ]
  },
  {
   "cell_type": "markdown",
   "id": "8a86a29c",
   "metadata": {},
   "source": [
    "- Load CSV"
   ]
  },
  {
   "cell_type": "code",
   "execution_count": 3,
   "id": "731e2672",
   "metadata": {},
   "outputs": [],
   "source": [
    "df = pd.read_csv('FullOptions.csv')"
   ]
  },
  {
   "cell_type": "code",
   "execution_count": 12,
   "id": "b54f43b4",
   "metadata": {},
   "outputs": [],
   "source": [
    "pd.set_option('display.max_columns', None) \n",
    "df.columns = [i.replace('[','').replace(']','').replace(' ','') for i in df.columns]\n",
    "\n",
    "df['QUOTE_DATE'] = pd.to_datetime(df['QUOTE_DATE'])\n"
   ]
  },
  {
   "cell_type": "markdown",
   "id": "177ec4c1",
   "metadata": {},
   "source": [
    "- Convert select columns to float"
   ]
  },
  {
   "cell_type": "code",
   "execution_count": 13,
   "id": "4919d950",
   "metadata": {},
   "outputs": [],
   "source": [
    "col_float = list(df.columns[8:-1])\n",
    "for i in col_float:\n",
    "    df[i] = pd.to_numeric(df[i], errors='coerce')"
   ]
  },
  {
   "cell_type": "markdown",
   "id": "4087a947",
   "metadata": {},
   "source": [
    "- Find unique options"
   ]
  },
  {
   "cell_type": "code",
   "execution_count": 14,
   "id": "f3e18994",
   "metadata": {},
   "outputs": [],
   "source": [
    "pd.set_option('display.max_columns', None)\n",
    "pd.set_option('display.max_rows', 10)\n",
    "df.sort_values(by='QUOTE_DATE', inplace=True)\n",
    "df['unique_id'] = [i+'-'+str(j)+'-'+str(k) for i,j,k in zip(df.EXPIRE_DATE,df.STRIKE, df.equity)]\n",
    "unique_options = df.unique_id.value_counts().index"
   ]
  },
  {
   "cell_type": "markdown",
   "id": "b0a27fac",
   "metadata": {},
   "source": [
    "# Main Graph function"
   ]
  },
  {
   "cell_type": "code",
   "execution_count": 15,
   "id": "f9f983d5",
   "metadata": {
    "scrolled": false
   },
   "outputs": [],
   "source": [
    "import matplotlib.pyplot as plt\n",
    "import os\n",
    "import PIL\n",
    "\n",
    "def generate_plot(temp, name, quotedate):\n",
    "    fig, ax1 = plt.subplots(figsize=(.8311688311688312*2, .8311688311688312*2))\n",
    "\n",
    "    ax1.set_xlabel('')\n",
    "    ax1.plot(temp['QUOTE_DATE'], temp['C_BID'], linewidth=2, color='black')\n",
    "\n",
    "    # Hide x-axis ticks and labels\n",
    "    ax1.set_xticks([])\n",
    "    ax1.set_xticklabels([])\n",
    "\n",
    "    # Hide y-axis ticks and labels\n",
    "    ax1.set_yticks([])\n",
    "    ax1.set_yticklabels([])\n",
    "\n",
    "    # Hide the spines (axes)\n",
    "    ax1.spines['top'].set_visible(False)\n",
    "    ax1.spines['right'].set_visible(False)\n",
    "    ax1.spines['bottom'].set_visible(False)\n",
    "    ax1.spines['left'].set_visible(False)\n",
    "\n",
    "    output_folder = './imgs/10p5-train'\n",
    "    filename = f'option{name}-{quotedate}.png'\n",
    "    filepath = os.path.join(output_folder, filename)\n",
    "    plt.savefig(filepath, bbox_inches='tight', pad_inches=0)\n",
    "    \n",
    "    img = Image.open(filepath).convert('L')\n",
    "\n",
    "    # Save the grayscale image\n",
    "    filepath_grayscale = os.path.join(output_folder, f'option{name}-{quotedate}.png')\n",
    "    img.save(filepath_grayscale)\n"
   ]
  },
  {
   "cell_type": "markdown",
   "id": "38d3a619",
   "metadata": {},
   "source": [
    "# Main Loop --> Randomly sample from dataframe 10K options and create charts and target labels"
   ]
  },
  {
   "cell_type": "code",
   "execution_count": 4,
   "id": "140730df",
   "metadata": {},
   "outputs": [
    {
     "ename": "NameError",
     "evalue": "name 'df' is not defined",
     "output_type": "error",
     "traceback": [
      "\u001b[0;31m---------------------------------------------------------------------------\u001b[0m",
      "\u001b[0;31mNameError\u001b[0m                                 Traceback (most recent call last)",
      "Cell \u001b[0;32mIn[4], line 6\u001b[0m\n\u001b[1;32m      3\u001b[0m target_quote_start_date \u001b[38;5;241m=\u001b[39m []\n\u001b[1;32m      4\u001b[0m target_description \u001b[38;5;241m=\u001b[39m []\n\u001b[0;32m----> 6\u001b[0m temp_df \u001b[38;5;241m=\u001b[39m \u001b[43mdf\u001b[49m\u001b[38;5;241m.\u001b[39miloc[\u001b[38;5;241m0\u001b[39m:\u001b[38;5;241m10000000\u001b[39m,:]\n\u001b[1;32m      7\u001b[0m unique_options \u001b[38;5;241m=\u001b[39m \u001b[38;5;28mlist\u001b[39m(temp_df\u001b[38;5;241m.\u001b[39munique_id\u001b[38;5;241m.\u001b[39mvalue_counts()\u001b[38;5;241m.\u001b[39mindex)\n\u001b[1;32m      8\u001b[0m unique_options \u001b[38;5;241m=\u001b[39m \u001b[38;5;28msorted\u001b[39m(unique_options, key\u001b[38;5;241m=\u001b[39m\u001b[38;5;28;01mlambda\u001b[39;00m x: random\u001b[38;5;241m.\u001b[39mrandom())\n",
      "\u001b[0;31mNameError\u001b[0m: name 'df' is not defined"
     ]
    }
   ],
   "source": [
    "target_return = []\n",
    "target_labels = []\n",
    "target_quote_start_date = []\n",
    "target_description = []\n",
    "\n",
    "temp_df = df.iloc[0:10000000,:]\n",
    "unique_options = list(temp_df.unique_id.value_counts().index)\n",
    "unique_options = sorted(unique_options, key=lambda x: random.random())\n",
    "\n",
    "for i in tqdm(unique_options[0:10000]):\n",
    "    indicator=0\n",
    "    temp = temp_df.loc[df['unique_id'] == i]\n",
    "    leny = len(temp) // 15\n",
    "    for idct in range(leny):\n",
    "        try:\n",
    "            i_input = temp.iloc[indicator:indicator + 10, :]\n",
    "            i_target = temp.iloc[indicator+9:indicator+14, :]\n",
    "\n",
    "            i_input.fillna(0)\n",
    "\n",
    "            ret = (i_target['C_BID'].values[-1] - i_target['C_BID'].values[0]) / i_target['C_BID'].values[0]\n",
    "            target_return.append(ret)\n",
    "            target_description.append(i)\n",
    "            target_quote_start_date.append(i_input['QUOTE_DATE'].values[0])\n",
    "\n",
    "            if i_target['C_BID'].values[0] < i_target['C_BID'].values[-1]:\n",
    "                target_labels.append(1)\n",
    "            else:\n",
    "                target_labels.append(0)\n",
    "\n",
    "            generate_plot(i_input, i, i_input.QUOTE_DATE.values[0])\n",
    "\n",
    "            indicator += 15\n",
    "\n",
    "        except:\n",
    "            print(f'Couldnt Render {i}')\n",
    "            break\n",
    "            \n",
    "            \n",
    "target_df = pd.DataFrame({'Label':target_labels, 'Return': target_return, 'Description': target_description, 'Quote_Start_Date': target_quote_start_date})\n",
    "\n",
    "target_df.to_csv('Target.csv')\n",
    "\n",
    "print('All Done')"
   ]
  },
  {
   "cell_type": "code",
   "execution_count": null,
   "id": "e09217f0",
   "metadata": {},
   "outputs": [],
   "source": []
  }
 ],
 "metadata": {
  "kernelspec": {
   "display_name": "Python 3 (ipykernel)",
   "language": "python",
   "name": "python3"
  },
  "language_info": {
   "codemirror_mode": {
    "name": "ipython",
    "version": 3
   },
   "file_extension": ".py",
   "mimetype": "text/x-python",
   "name": "python",
   "nbconvert_exporter": "python",
   "pygments_lexer": "ipython3",
   "version": "3.11.3"
  }
 },
 "nbformat": 4,
 "nbformat_minor": 5
}
